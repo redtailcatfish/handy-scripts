{
 "cells": [
  {
   "cell_type": "code",
   "execution_count": 1,
   "metadata": {},
   "outputs": [],
   "source": [
    "import cv2\n",
    "import os\n",
    "import glob"
   ]
  },
  {
   "cell_type": "code",
   "execution_count": 4,
   "metadata": {},
   "outputs": [
    {
     "name": "stdout",
     "output_type": "stream",
     "text": [
      "180\n",
      "done converting\n"
     ]
    }
   ],
   "source": [
    "path = 'D:/GTSDB/Datasets/FullIJCNN2013/Coco/GTSDB_coco/testGTSDB_color/'  \n",
    "images = []\n",
    "os.chdir(path)\n",
    "splice = len(path)\n",
    "\n",
    "for image in glob.glob(\"*.jpg\"):\n",
    "    images.append(path + image)\n",
    "print(len(images))\n",
    "for img in images:\n",
    "    image = cv2.imread(img)\n",
    "    gray = cv2.cvtColor(image, cv2.COLOR_BGR2GRAY)\n",
    "    cv2.imwrite('D:/GTSDB/Datasets/FullIJCNN2013/Coco/GTSDB_coco/testGTSDB_gray/{}.jpg'.format(img[splice:-4]), gray)\n",
    "print(\"done converting\")  "
   ]
  },
  {
   "cell_type": "code",
   "execution_count": null,
   "metadata": {},
   "outputs": [],
   "source": []
  }
 ],
 "metadata": {
  "kernelspec": {
   "display_name": "asim",
   "language": "python",
   "name": "asim"
  },
  "language_info": {
   "codemirror_mode": {
    "name": "ipython",
    "version": 3
   },
   "file_extension": ".py",
   "mimetype": "text/x-python",
   "name": "python",
   "nbconvert_exporter": "python",
   "pygments_lexer": "ipython3",
   "version": "3.7.3"
  }
 },
 "nbformat": 4,
 "nbformat_minor": 2
}
